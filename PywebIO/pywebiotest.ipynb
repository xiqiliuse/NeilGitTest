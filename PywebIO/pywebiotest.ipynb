{
 "cells": [
  {
   "cell_type": "markdown",
   "metadata": {},
   "source": [
    "https://github.com/pywebio/PyWebIO"
   ]
  },
  {
   "cell_type": "markdown",
   "metadata": {},
   "source": [
    "https://pywebio.readthedocs.io/zh-cn/latest/guide.html\n"
   ]
  },
  {
   "cell_type": "markdown",
   "metadata": {},
   "source": [
    "https://pywebio-demos.pywebio.online/"
   ]
  },
  {
   "cell_type": "code",
   "execution_count": 1,
   "metadata": {},
   "outputs": [],
   "source": [
    "from pywebio.input import input, FLOAT\n",
    "from pywebio.output import put_text\n",
    "\n",
    "def bmi():\n",
    "    height = input(\"请输入你的身高(cm)：\", type=FLOAT)\n",
    "    weight = input(\"请输入你的体重(kg)：\", type=FLOAT)\n",
    "\n",
    "    BMI = weight / (height / 100) ** 2\n",
    "\n",
    "    top_status = [(14.9, '极瘦'), (18.4, '偏瘦'),\n",
    "                  (22.9, '正常'), (27.5, '过重'),\n",
    "                  (40.0, '肥胖'), (float('inf'), '非常肥胖')]\n",
    "\n",
    "    for top, status in top_status:\n",
    "        if BMI <= top:\n",
    "            put_text('你的 BMI 值: %.1f，身体状态：%s' % (BMI, status))\n",
    "            break\n",
    "\n",
    "if __name__ == '__main__':\n",
    "    bmi()"
   ]
  },
  {
   "cell_type": "code",
   "execution_count": null,
   "metadata": {},
   "outputs": [],
   "source": []
  }
 ],
 "metadata": {
  "kernelspec": {
   "display_name": "Python 3",
   "language": "python",
   "name": "python3"
  },
  "language_info": {
   "codemirror_mode": {
    "name": "ipython",
    "version": 3
   },
   "file_extension": ".py",
   "mimetype": "text/x-python",
   "name": "python",
   "nbconvert_exporter": "python",
   "pygments_lexer": "ipython3",
   "version": "3.10.11"
  }
 },
 "nbformat": 4,
 "nbformat_minor": 2
}
