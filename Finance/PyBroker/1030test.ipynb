{
 "cells": [
  {
   "cell_type": "code",
   "execution_count": 1,
   "metadata": {},
   "outputs": [
    {
     "name": "stdout",
     "output_type": "stream",
     "text": [
      "1.1.29\n"
     ]
    }
   ],
   "source": [
    "import pybroker as pb\n",
    "\n",
    "print(pb.__version__)"
   ]
  },
  {
   "cell_type": "code",
   "execution_count": 2,
   "metadata": {},
   "outputs": [
    {
     "name": "stdout",
     "output_type": "stream",
     "text": [
      "1.1.29\n"
     ]
    }
   ],
   "source": [
    "import pybroker as pb\n",
    "from pybroker import Strategy, StrategyConfig, ExecContext\n",
    "from pybroker.ext.data import AKShare\n",
    "\n",
    "print(pb.__version__)"
   ]
  },
  {
   "cell_type": "code",
   "execution_count": 24,
   "metadata": {},
   "outputs": [
    {
     "name": "stdout",
     "output_type": "stream",
     "text": [
      "1.1.29\n",
      "Backtesting: 2022-01-01 00:00:00 to 2023-09-16 00:00:00\n",
      "\n",
      "Loading bar data...\n",
      "Loaded bar data: 0:00:02 \n",
      "\n",
      "Test split: 2022-01-04 00:00:00 to 2023-09-15 00:00:00\n"
     ]
    },
    {
     "name": "stderr",
     "output_type": "stream",
     "text": [
      "  0% (0 of 415) |                        | Elapsed Time: 0:00:00 ETA:  --:--:--\n",
      " 65% (271 of 415) |##############        | Elapsed Time: 0:00:00 ETA:  00:00:00\n",
      "100% (415 of 415) |######################| Elapsed Time: 0:00:00 Time:  0:00:00\n"
     ]
    },
    {
     "name": "stdout",
     "output_type": "stream",
     "text": [
      "\n",
      "Finished backtest: 0:00:03\n"
     ]
    }
   ],
   "source": [
    "# 导入相关模块和类\n",
    "import pybroker as pb\n",
    "from pybroker import Strategy, StrategyConfig, ExecContext\n",
    "from pybroker.ext.data import AKShare\n",
    "import pandas\n",
    "# 查看当前版本\n",
    "print(pb.__version__)\n",
    "\n",
    "# 策略配置\n",
    "config = StrategyConfig(initial_cash=500_000)\n",
    "strategy = Strategy(\n",
    "    data_source=AKShare(),\n",
    "    start_date='20220101',\n",
    "    end_date='20230916',\n",
    "    config=config\n",
    ")\n",
    "\n",
    "# 定义规则\n",
    "def buy_low(ctx: ExecContext):\n",
    "    # 如果当前已经持有仓位，则不再买入。\n",
    "    if ctx.long_pos():\n",
    "        return\n",
    "    # 如果当前的收盘价小于前一天的最低价，则下单买入。\n",
    "    if ctx.bars >= 2 and ctx.close[-1] < ctx.low[-2]:\n",
    "        # 计算买入的股票数量，该数量为当前资金的 25%。\n",
    "        ctx.buy_shares = ctx.calc_target_shares(0.25)\n",
    "        # 设置买入的限价，该限价为当前收盘价减去 0.01。\n",
    "        ctx.buy_limit_price = ctx.close[-1] - 0.01\n",
    "        # 设置持有仓位的时间，该时间为 3 个交易日。\n",
    "        ctx.hold_bars = 3\n",
    "\n",
    "# 执行回测\n",
    "strategy.add_execution(fn=buy_low, symbols=['000001', '600884'])\n",
    "result = strategy.backtest()\n",
    "\n",
    "# 查看结果\n",
    "# print(result.metrics_df)  # 查看绩效\n",
    "# print(result.orders)  # 查看订单\n",
    "# print(result.positions)  # 查看持仓\n",
    "# print(result.portfolio)  # 查看投资组合\n",
    "# print(result.trades)  # 查看交易\n"
   ]
  },
  {
   "cell_type": "markdown",
   "metadata": {},
   "source": [
    "excel查看"
   ]
  },
  {
   "cell_type": "code",
   "execution_count": 36,
   "metadata": {},
   "outputs": [],
   "source": [
    "# print(result.metrics_df)  # 查看绩效\n",
    "result.metrics_df.to_excel(\"查看绩效.xlsx\", sheet_name='1')\n",
    "\n",
    "# print(result.orders)  # 查看订单\n",
    "result.orders.to_excel(\"查看订单.xlsx\", sheet_name='1')\n",
    "\n",
    "# print(result.positions)  # 查看持仓\n",
    "result.positions.to_excel(\"查看持仓.xlsx\", sheet_name='1')\n",
    "\n",
    "# print(result.portfolio)  # 查看投资组合\n",
    "result.portfolio.to_excel(\"查看投资组合.xlsx\", sheet_name='1')\n",
    "\n",
    "# print(result.trades)  # 查看交易\n",
    "result.trades.to_excel(\"查看交易.xlsx\", sheet_name='1')"
   ]
  },
  {
   "cell_type": "code",
   "execution_count": null,
   "metadata": {},
   "outputs": [],
   "source": []
  }
 ],
 "metadata": {
  "kernelspec": {
   "display_name": "Python 3",
   "language": "python",
   "name": "python3"
  },
  "language_info": {
   "codemirror_mode": {
    "name": "ipython",
    "version": 3
   },
   "file_extension": ".py",
   "mimetype": "text/x-python",
   "name": "python",
   "nbconvert_exporter": "python",
   "pygments_lexer": "ipython3",
   "version": "3.10.11"
  }
 },
 "nbformat": 4,
 "nbformat_minor": 2
}
