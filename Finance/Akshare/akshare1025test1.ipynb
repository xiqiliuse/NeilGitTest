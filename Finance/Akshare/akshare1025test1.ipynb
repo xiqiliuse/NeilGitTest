{
 "cells": [
  {
   "cell_type": "code",
   "execution_count": 1,
   "id": "8321145c-02b5-47f5-9738-f6a9d81c55c9",
   "metadata": {},
   "outputs": [
    {
     "name": "stdout",
     "output_type": "stream",
     "text": [
      "      项目         股票         主板       科创板\n",
      "0   流通股本   44893.11   43754.13   1138.99\n",
      "1    总市值  458889.23  400785.94  58103.28\n",
      "2  平均市盈率      11.86      10.90     33.88\n",
      "3   上市公司       2252       1690       562\n",
      "4   上市股票       2291       1729       562\n",
      "5   流通市值  412659.19  377489.72  35169.47\n",
      "6   报告时间   20231024   20231024  20231024\n",
      "8    总股本   48898.58   46790.69   2107.89\n"
     ]
    }
   ],
   "source": [
    "import akshare as ak\n",
    "\n",
    "stock_sse_summary_df = ak.stock_sse_summary()\n",
    "print(stock_sse_summary_df)"
   ]
  },
  {
   "cell_type": "code",
   "execution_count": 3,
   "id": "f30b34a6-fc66-47ee-b8e4-191b804b7ddb",
   "metadata": {},
   "outputs": [
    {
     "name": "stdout",
     "output_type": "stream",
     "text": [
      "1.11.49\n"
     ]
    }
   ],
   "source": [
    "import akshare as ak\n",
    "\n",
    "print(ak.__version__)"
   ]
  },
  {
   "cell_type": "code",
   "execution_count": null,
   "id": "a0dbed3d-de2d-4d3e-83da-21e0480c5c65",
   "metadata": {},
   "outputs": [],
   "source": [
    "import akshare as ak\n",
    "import mplfinance as mpf  # Please install mplfinance as follows: pip install mplfinance\n",
    "\n",
    "stock_us_daily_df = ak.stock_us_daily(symbol=\"AAPL\", adjust=\"qfq\")\n",
    "stock_us_daily_df = stock_us_daily_df[[\"open\", \"high\", \"low\", \"close\", \"volume\"]]\n",
    "stock_us_daily_df.columns = [\"Open\", \"High\", \"Low\", \"Close\", \"Volume\"]\n",
    "stock_us_daily_df.index.name = \"Date\"\n",
    "stock_us_daily_df = stock_us_daily_df[\"2023-04-01\": \"2023-05-29\"]\n",
    "mpf.plot(stock_us_daily_df, type='candle', mav=(3, 6, 9), volume=True, show_nontrading=False)"
   ]
  },
  {
   "cell_type": "code",
   "execution_count": null,
   "id": "386a378b-a7ea-4774-800b-fd8f104f8c13",
   "metadata": {},
   "outputs": [],
   "source": [
    "import akshare as ak\n",
    "\n",
    "stock_individual_info_em_df = ak.stock_individual_info_em(symbol=\"600884\")\n",
    "print(stock_individual_info_em_df)"
   ]
  },
  {
   "cell_type": "code",
   "execution_count": 1,
   "id": "a25a4326-392b-413b-8066-718f42ddcd88",
   "metadata": {},
   "outputs": [],
   "source": [
    "import akshare as ak\n",
    "import pandas\n",
    "stock_sh_a_spot_em_df = ak.stock_sh_a_spot_em()\n",
    "stock_sh_a_spot_em_df.to_excel(\"D:\\\\lxd\\\\learn\\\\py\\\\TestData\\\\test2.xlsx\", sheet_name='1')\n",
    "# print(stock_sh_a_spot_em_df)"
   ]
  },
  {
   "cell_type": "code",
   "execution_count": 4,
   "id": "aa921241-df40-45fe-971b-a3028ffff299",
   "metadata": {
    "scrolled": true
   },
   "outputs": [],
   "source": [
    "import akshare as ak\n",
    "import pandas\n",
    "Temp_df = ak.stock_zh_a_spot_em()\n",
    "Temp_df.to_excel(\"D:\\\\lxd\\\\learn\\\\py\\\\TestData\\\\沪深京A股.xlsx\", sheet_name='1')\n",
    "# print(stock_sh_a_spot_em_df)"
   ]
  },
  {
   "cell_type": "code",
   "execution_count": 6,
   "id": "27ee06cb",
   "metadata": {},
   "outputs": [
    {
     "name": "stderr",
     "output_type": "stream",
     "text": [
      "                                                                                                                       \r"
     ]
    }
   ],
   "source": [
    "import akshare as ak\n",
    "import pandas\n",
    "# 实时行情数据-新浪\n",
    "Temp_df = ak.stock_zh_a_spot()\n",
    "Temp_df.to_excel(\"D:\\\\lxd\\\\learn\\\\py\\\\TestData\\\\新浪实时行情数据.xlsx\", sheet_name='1')\n",
    "# print(stock_sh_a_spot_em_df)v"
   ]
  },
  {
   "cell_type": "code",
   "execution_count": 7,
   "id": "fc022abf-e83f-4fe8-9d09-9511ef99d2b9",
   "metadata": {},
   "outputs": [
    {
     "name": "stderr",
     "output_type": "stream",
     "text": [
      "                                                                                                                       \r"
     ]
    }
   ],
   "source": [
    "import akshare as ak\n",
    "import pandas\n",
    "stock_sh_a_spot_em_df = ak.stock_rank_cxg_ths(symbol=\"创月新高\")\n",
    "stock_sh_a_spot_em_df.to_excel(\"D:\\\\lxd\\\\learn\\\\py\\\\TestData\\\\新高.xlsx\", sheet_name='1')\n",
    "# print(stock_sh_a_spot_em_df)"
   ]
  },
  {
   "cell_type": "code",
   "execution_count": 8,
   "id": "1394a814-1ec4-4a16-8c25-3681c84b9e1b",
   "metadata": {},
   "outputs": [
    {
     "name": "stderr",
     "output_type": "stream",
     "text": [
      "                                                                                                                       \r"
     ]
    }
   ],
   "source": [
    "import akshare as ak\n",
    "import pandas\n",
    "# 连续上涨\n",
    "stock_sh_a_spot_em_df = ak.stock_rank_lxsz_ths()\n",
    "stock_sh_a_spot_em_df.to_excel(\"D:\\\\lxd\\\\learn\\\\py\\\\TestData\\\\连续上涨.xlsx\", sheet_name='1')\n",
    "# print(stock_sh_a_spot_em_df)"
   ]
  },
  {
   "cell_type": "code",
   "execution_count": 9,
   "id": "a3669ecd-6d5f-4a81-86ca-9b8b51f5f276",
   "metadata": {},
   "outputs": [
    {
     "name": "stderr",
     "output_type": "stream",
     "text": [
      "                                                                                                                       \r"
     ]
    }
   ],
   "source": [
    "import akshare as ak\n",
    "import pandas\n",
    "# 持续放量\n",
    "stock_sh_a_spot_em_df = ak.stock_rank_cxfl_ths()\n",
    "stock_sh_a_spot_em_df.to_excel(\"D:\\\\lxd\\\\learn\\\\py\\\\TestData\\\\持续放量.xlsx\", sheet_name='1')\n",
    "# print(stock_sh_a_spot_em_df)"
   ]
  },
  {
   "cell_type": "code",
   "execution_count": 10,
   "id": "f5ae8801-8447-4c91-abc5-80dabf3969fe",
   "metadata": {},
   "outputs": [
    {
     "name": "stderr",
     "output_type": "stream",
     "text": [
      "                                                                                                                       \r"
     ]
    }
   ],
   "source": [
    "import akshare as ak\n",
    "import pandas\n",
    "# 量价齐升\n",
    "stock_sh_a_spot_em_df = ak.stock_rank_ljqs_ths()\n",
    "stock_sh_a_spot_em_df.to_excel(\"D:\\\\lxd\\\\learn\\\\py\\\\TestData\\\\量价齐升.xlsx\", sheet_name='1')\n",
    "# print(stock_sh_a_spot_em_df)"
   ]
  },
  {
   "cell_type": "code",
   "execution_count": null,
   "id": "e58013f8-f7cb-417a-bcf0-46cd2884f72a",
   "metadata": {},
   "outputs": [],
   "source": [
    "import akshare as ak\n",
    "import pandas\n",
    "# 汽车销量\n",
    "sem_df = ak.car_gasgoo_sale_rank(symbol=\"品牌榜\", date=\"202104\")\n",
    "# sem_df.to_excel(\"D:\\\\lxd\\\\learn\\\\py\\\\TestData\\\\汽车销量升.xlsx\", sheet_name='1')\n",
    "print(sem_df)"
   ]
  },
  {
   "cell_type": "code",
   "execution_count": null,
   "id": "e598e830-3261-4949-ae0c-9aed503e7af5",
   "metadata": {
    "scrolled": true
   },
   "outputs": [],
   "source": []
  },
  {
   "cell_type": "code",
   "execution_count": null,
   "id": "f0541af6-a4be-4ee5-9c3c-fea90cbdaa41",
   "metadata": {
    "scrolled": true
   },
   "outputs": [],
   "source": [
    "import akshare as ak\n",
    "\n",
    "fortune_rank_df = ak.fortune_rank(year=\"2022\")\n",
    "print(fortune_rank_df)"
   ]
  },
  {
   "cell_type": "code",
   "execution_count": null,
   "id": "3056edd8-2f29-4a46-a4a2-2ed3fb3167db",
   "metadata": {},
   "outputs": [],
   "source": []
  }
 ],
 "metadata": {
  "kernelspec": {
   "display_name": "Python 3 (ipykernel)",
   "language": "python",
   "name": "python3"
  },
  "language_info": {
   "codemirror_mode": {
    "name": "ipython",
    "version": 3
   },
   "file_extension": ".py",
   "mimetype": "text/x-python",
   "name": "python",
   "nbconvert_exporter": "python",
   "pygments_lexer": "ipython3",
   "version": "3.10.11"
  }
 },
 "nbformat": 4,
 "nbformat_minor": 5
}
