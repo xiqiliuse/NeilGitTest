{
 "cells": [
  {
   "cell_type": "code",
   "execution_count": 1,
   "metadata": {},
   "outputs": [],
   "source": [
    "# 实时行情数据-东财\n",
    "import akshare as ak\n",
    "import pandas\n",
    "temp_df=ak.stock_zh_a_spot_em()\n",
    "temp_df.to_excel(\"D:\\\\lxd\\\\learn\\\\py\\\\TestData\\\\东财实时数据.xlsx\", sheet_name='1')"
   ]
  },
  {
   "cell_type": "code",
   "execution_count": 4,
   "metadata": {},
   "outputs": [],
   "source": [
    "# 行情报价\n",
    "import akshare as ak\n",
    "import pandas\n",
    "temp_df=ak.stock_bid_ask_em(symbol=\"600884\")\n",
    "temp_df.to_excel(\"D:\\\\lxd\\\\learn\\\\py\\\\TestData\\\\行情报价.xlsx\", sheet_name='1')"
   ]
  },
  {
   "cell_type": "markdown",
   "metadata": {},
   "source": [
    "https://github.com/akfamily/akshare"
   ]
  },
  {
   "cell_type": "markdown",
   "metadata": {},
   "source": [
    "https://akshare.akfamily.xyz/"
   ]
  },
  {
   "cell_type": "markdown",
   "metadata": {},
   "source": [
    "https://akshare.akfamily.xyz/data/stock/stock.html#id1"
   ]
  },
  {
   "cell_type": "markdown",
   "metadata": {},
   "source": [
    "https://akshare.akfamily.xyz/data/stock/stock.html#id386"
   ]
  },
  {
   "cell_type": "code",
   "execution_count": 1,
   "metadata": {},
   "outputs": [
    {
     "name": "stderr",
     "output_type": "stream",
     "text": [
      "                                               \r"
     ]
    }
   ],
   "source": [
    "# 量价齐升\n",
    "import akshare as ak\n",
    "import pandas\n",
    "temp_df=ak.stock_rank_ljqs_ths()\n",
    "temp_df.to_excel(\"D:\\\\lxd\\\\learn\\\\py\\\\TestData\\\\量价齐升.xlsx\", sheet_name='1')"
   ]
  },
  {
   "cell_type": "code",
   "execution_count": null,
   "metadata": {},
   "outputs": [],
   "source": []
  }
 ],
 "metadata": {
  "kernelspec": {
   "display_name": "Python 3",
   "language": "python",
   "name": "python3"
  },
  "language_info": {
   "codemirror_mode": {
    "name": "ipython",
    "version": 3
   },
   "file_extension": ".py",
   "mimetype": "text/x-python",
   "name": "python",
   "nbconvert_exporter": "python",
   "pygments_lexer": "ipython3",
   "version": "3.10.0"
  }
 },
 "nbformat": 4,
 "nbformat_minor": 2
}
